{
  "cells": [
    {
      "cell_type": "markdown",
      "metadata": {},
      "source": [
        "[![Open In Colab](https://colab.research.google.com/assets/colab-badge.svg)](https://colab.research.google.com/drive/1nx7EDYFZvWRHaV2aXjabisSK58QtSm0o)"
      ]
    },
    {
      "cell_type": "code",
      "execution_count": 1,
      "metadata": {
        "colab": {
          "base_uri": "https://localhost:8080/"
        },
        "id": "hkT7qfMlJUPk",
        "outputId": "dd1c20db-b29b-465b-b32a-b5b9c57bf368"
      },
      "outputs": [
        {
          "name": "stdout",
          "output_type": "stream",
          "text": [
            "9\n"
          ]
        }
      ],
      "source": [
        "def square(num):\n",
        "    new_num = num**2\n",
        "    return new_num\n",
        "\n",
        "print(square(4))"
      ]
    }
  ],
  "metadata": {
    "colab": {
      "name": "python_basics.ipynb",
      "provenance": []
    },
    "kernelspec": {
      "display_name": "Python 3",
      "name": "python3"
    },
    "language_info": {
      "name": "python"
    }
  },
  "nbformat": 4,
  "nbformat_minor": 0
}
